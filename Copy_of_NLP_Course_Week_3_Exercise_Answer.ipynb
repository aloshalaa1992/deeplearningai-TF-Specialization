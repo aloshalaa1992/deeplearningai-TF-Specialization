{
  "nbformat": 4,
  "nbformat_minor": 0,
  "metadata": {
    "accelerator": "GPU",
    "colab": {
      "name": "Copy of NLP Course - Week 3 Exercise Answer.ipynb",
      "provenance": [],
      "toc_visible": true,
      "include_colab_link": true
    },
    "kernelspec": {
      "display_name": "Python 3",
      "language": "python",
      "name": "python3"
    },
    "language_info": {
      "codemirror_mode": {
        "name": "ipython",
        "version": 3
      },
      "file_extension": ".py",
      "mimetype": "text/x-python",
      "name": "python",
      "nbconvert_exporter": "python",
      "pygments_lexer": "ipython3",
      "version": "3.7.6"
    }
  },
  "cells": [
    {
      "cell_type": "markdown",
      "metadata": {
        "id": "view-in-github",
        "colab_type": "text"
      },
      "source": [
        "<a href=\"https://colab.research.google.com/github/aloshalaa1992/deeplearningai-TF-Specialization/blob/master/Copy_of_NLP_Course_Week_3_Exercise_Answer.ipynb\" target=\"_parent\"><img src=\"https://colab.research.google.com/assets/colab-badge.svg\" alt=\"Open In Colab\"/></a>"
      ]
    },
    {
      "cell_type": "code",
      "metadata": {
        "id": "zX4Kg8DUTKWO"
      },
      "source": [
        "#@title Licensed under the Apache License, Version 2.0 (the \"License\");\n",
        "# you may not use this file except in compliance with the License.\n",
        "# You may obtain a copy of the License at\n",
        "#\n",
        "# https://www.apache.org/licenses/LICENSE-2.0\n",
        "#\n",
        "# Unless required by applicable law or agreed to in writing, software\n",
        "# distributed under the License is distributed on an \"AS IS\" BASIS,\n",
        "# WITHOUT WARRANTIES OR CONDITIONS OF ANY KIND, either express or implied.\n",
        "# See the License for the specific language governing permissions and\n",
        "# limitations under the License."
      ],
      "execution_count": 1,
      "outputs": []
    },
    {
      "cell_type": "markdown",
      "metadata": {
        "id": "rjO2xS83nw5h"
      },
      "source": [
        "<a href=\"https://colab.research.google.com/github/lmoroney/dlaicourse/blob/master/TensorFlow%20In%20Practice/Course%203%20-%20NLP/NLP%20Course%20-%20Week%203%20Exercise%20Answer.ipynb\" target=\"_parent\"><img src=\"https://colab.research.google.com/assets/colab-badge.svg\" alt=\"Open In Colab\"/></a>"
      ]
    },
    {
      "cell_type": "code",
      "metadata": {
        "id": "hmA6EzkQJ5jt"
      },
      "source": [
        "import json\n",
        "import tensorflow as tf\n",
        "import csv\n",
        "import random\n",
        "import numpy as np\n",
        "\n",
        "from tensorflow.keras.preprocessing.text import Tokenizer\n",
        "from tensorflow.keras.preprocessing.sequence import pad_sequences\n",
        "from tensorflow.keras.utils import to_categorical\n",
        "from tensorflow.keras import regularizers\n",
        "\n",
        "\n",
        "embedding_dim = 100\n",
        "max_length = 16\n",
        "trunc_type='post'\n",
        "padding_type='post'\n",
        "oov_tok = \"<OOV>\"\n",
        "training_size=160000\n",
        "test_portion=.1\n",
        "\n",
        "corpus = []\n"
      ],
      "execution_count": 2,
      "outputs": []
    },
    {
      "cell_type": "code",
      "metadata": {
        "colab": {
          "base_uri": "https://localhost:8080/"
        },
        "id": "bM0l_dORKqE0",
        "outputId": "2644dcd1-f0d9-4044-f0a2-6fdf8f800204"
      },
      "source": [
        "# Note that I cleaned the Stanford dataset to remove LATIN1 encoding to make it easier for Python CSV reader\n",
        "# You can do that yourself with:\n",
        "# iconv -f LATIN1 -t UTF8 training.1600000.processed.noemoticon.csv -o training_cleaned.csv\n",
        "# I then hosted it on my site to make it easier to use in this notebook\n",
        "\n",
        "!wget --no-check-certificate \\\n",
        "    https://storage.googleapis.com/laurencemoroney-blog.appspot.com/training_cleaned.csv \\\n",
        "    -O /tmp/training_cleaned.csv\n",
        "\n",
        "num_sentences = 0\n",
        "\n",
        "with open(\"/tmp/training_cleaned.csv\") as csvfile:\n",
        "    reader = csv.reader(csvfile, delimiter=',')\n",
        "    for row in reader:\n",
        "        list_item=[]\n",
        "        list_item.append(row[5])\n",
        "        this_label=row[0]\n",
        "        if this_label=='0':\n",
        "            list_item.append(0)\n",
        "        else:\n",
        "            list_item.append(1)\n",
        "        num_sentences = num_sentences + 1\n",
        "        corpus.append(list_item)\n"
      ],
      "execution_count": 3,
      "outputs": [
        {
          "output_type": "stream",
          "text": [
            "--2020-12-28 09:13:16--  https://storage.googleapis.com/laurencemoroney-blog.appspot.com/training_cleaned.csv\n",
            "Resolving storage.googleapis.com (storage.googleapis.com)... 64.233.167.128, 64.233.166.128, 74.125.133.128, ...\n",
            "Connecting to storage.googleapis.com (storage.googleapis.com)|64.233.167.128|:443... connected.\n",
            "HTTP request sent, awaiting response... 200 OK\n",
            "Length: 238942690 (228M) [application/octet-stream]\n",
            "Saving to: ‘/tmp/training_cleaned.csv’\n",
            "\n",
            "/tmp/training_clean 100%[===================>] 227.87M  48.9MB/s    in 4.7s    \n",
            "\n",
            "2020-12-28 09:13:22 (48.9 MB/s) - ‘/tmp/training_cleaned.csv’ saved [238942690/238942690]\n",
            "\n"
          ],
          "name": "stdout"
        }
      ]
    },
    {
      "cell_type": "code",
      "metadata": {
        "colab": {
          "base_uri": "https://localhost:8080/"
        },
        "id": "3kxblBUjEUX-",
        "outputId": "4252f109-f8ee-48ca-c90c-7784c4e980dc"
      },
      "source": [
        "print(num_sentences)\n",
        "print(len(corpus))\n",
        "print(corpus[1])\n",
        "\n",
        "# Expected Output:\n",
        "# 1600000\n",
        "# 1600000\n",
        "# [\"is upset that he can't update his Facebook by texting it... and might cry as a result  School today also. Blah!\", 0]"
      ],
      "execution_count": 4,
      "outputs": [
        {
          "output_type": "stream",
          "text": [
            "1600000\n",
            "1600000\n",
            "[\"is upset that he can't update his Facebook by texting it... and might cry as a result  School today also. Blah!\", 0]\n"
          ],
          "name": "stdout"
        }
      ]
    },
    {
      "cell_type": "code",
      "metadata": {
        "id": "ohOGz24lsNAD"
      },
      "source": [
        "sentences=[]\n",
        "labels=[]\n",
        "random.shuffle(corpus)\n",
        "for x in range(training_size):\n",
        "    sentences.append(corpus[x][0])\n",
        "    labels.append(corpus[x][1])\n",
        "\n",
        "\n",
        "tokenizer = Tokenizer()\n",
        "tokenizer.fit_on_texts(sentences)\n",
        "\n",
        "word_index = tokenizer.word_index\n",
        "vocab_size=len(word_index)\n",
        "\n",
        "sequences = tokenizer.texts_to_sequences(sentences)\n",
        "padded = pad_sequences(sequences, maxlen=max_length, padding=padding_type, truncating=trunc_type)\n",
        "\n",
        "split = int(test_portion * training_size)\n",
        "\n",
        "test_sequences = padded[0:split]\n",
        "training_sequences = padded[split:training_size]\n",
        "test_labels = labels[0:split]\n",
        "training_labels = labels[split:training_size]"
      ],
      "execution_count": 5,
      "outputs": []
    },
    {
      "cell_type": "code",
      "metadata": {
        "colab": {
          "base_uri": "https://localhost:8080/"
        },
        "id": "gIrtRem1En3N",
        "outputId": "5e56c6ff-7f60-4739-bf4b-1842be424db8"
      },
      "source": [
        "print(vocab_size)\n",
        "print(word_index['i'])\n",
        "# Expected Output\n",
        "# 138858\n",
        "# 1"
      ],
      "execution_count": 6,
      "outputs": [
        {
          "output_type": "stream",
          "text": [
            "138765\n",
            "1\n"
          ],
          "name": "stdout"
        }
      ]
    },
    {
      "cell_type": "code",
      "metadata": {
        "colab": {
          "base_uri": "https://localhost:8080/"
        },
        "id": "C1zdgJkusRh0",
        "outputId": "e45968f9-db7a-4639-f201-bc115e0473a9"
      },
      "source": [
        "# Note this is the 100 dimension version of GloVe from Stanford\n",
        "# I unzipped and hosted it on my site to make this notebook easier\n",
        "!wget --no-check-certificate \\\n",
        "    https://storage.googleapis.com/laurencemoroney-blog.appspot.com/glove.6B.100d.txt \\\n",
        "    -O /tmp/glove.6B.100d.txt\n",
        "embeddings_index = {};\n",
        "with open('/tmp/glove.6B.100d.txt') as f:\n",
        "    for line in f:\n",
        "        values = line.split();\n",
        "        word = values[0];\n",
        "        coefs = np.asarray(values[1:], dtype='float32');\n",
        "        embeddings_index[word] = coefs;\n",
        "\n",
        "embeddings_matrix = np.zeros((vocab_size+1, embedding_dim));\n",
        "for word, i in word_index.items():\n",
        "    embedding_vector = embeddings_index.get(word);\n",
        "    if embedding_vector is not None:\n",
        "        embeddings_matrix[i] = embedding_vector;"
      ],
      "execution_count": 7,
      "outputs": [
        {
          "output_type": "stream",
          "text": [
            "--2020-12-28 09:13:35--  https://storage.googleapis.com/laurencemoroney-blog.appspot.com/glove.6B.100d.txt\n",
            "Resolving storage.googleapis.com (storage.googleapis.com)... 74.125.133.128, 74.125.140.128, 173.194.76.128, ...\n",
            "Connecting to storage.googleapis.com (storage.googleapis.com)|74.125.133.128|:443... connected.\n",
            "HTTP request sent, awaiting response... 200 OK\n",
            "Length: 347116733 (331M) [text/plain]\n",
            "Saving to: ‘/tmp/glove.6B.100d.txt’\n",
            "\n",
            "/tmp/glove.6B.100d. 100%[===================>] 331.04M  30.6MB/s    in 11s     \n",
            "\n",
            "2020-12-28 09:13:47 (30.9 MB/s) - ‘/tmp/glove.6B.100d.txt’ saved [347116733/347116733]\n",
            "\n"
          ],
          "name": "stdout"
        }
      ]
    },
    {
      "cell_type": "code",
      "metadata": {
        "colab": {
          "base_uri": "https://localhost:8080/"
        },
        "id": "71NLk_lpFLNt",
        "outputId": "d3017a91-974f-4e54-8bdc-0c1f30a5aab2"
      },
      "source": [
        "print(len(embeddings_matrix))\n",
        "# Expected Output\n",
        "# 138859"
      ],
      "execution_count": 8,
      "outputs": [
        {
          "output_type": "stream",
          "text": [
            "138766\n"
          ],
          "name": "stdout"
        }
      ]
    },
    {
      "cell_type": "code",
      "metadata": {
        "id": "iKKvbuEBOGFz",
        "colab": {
          "base_uri": "https://localhost:8080/"
        },
        "outputId": "dce59078-84f0-4f71-a3cd-8c9acfb02867"
      },
      "source": [
        "model = tf.keras.Sequential([\n",
        "    tf.keras.layers.Embedding(vocab_size+1, embedding_dim, input_length=max_length, weights=[embeddings_matrix], trainable=False),\n",
        "    tf.keras.layers.Dropout(0.2),\n",
        "    tf.keras.layers.Conv1D(64, 5, activation='relu'),\n",
        "    tf.keras.layers.MaxPooling1D(pool_size=4),\n",
        "    tf.keras.layers.LSTM(64),\n",
        "    tf.keras.layers.Dense(1, activation='sigmoid')\n",
        "])\n",
        "model.compile(loss='binary_crossentropy',optimizer='adam',metrics=['accuracy'])\n",
        "model.summary()\n",
        "\n",
        "num_epochs = 50\n",
        "\n",
        "training_padded = np.array(training_sequences)\n",
        "training_labels = np.array(training_labels)\n",
        "testing_padded = np.array(test_sequences)\n",
        "testing_labels = np.array(test_labels)\n",
        "\n",
        "history = model.fit(training_padded, training_labels, epochs=num_epochs, validation_data=(testing_padded, testing_labels), verbose=2)\n",
        "\n",
        "print(\"Training Complete\")"
      ],
      "execution_count": 9,
      "outputs": [
        {
          "output_type": "stream",
          "text": [
            "Model: \"sequential\"\n",
            "_________________________________________________________________\n",
            "Layer (type)                 Output Shape              Param #   \n",
            "=================================================================\n",
            "embedding (Embedding)        (None, 16, 100)           13876600  \n",
            "_________________________________________________________________\n",
            "dropout (Dropout)            (None, 16, 100)           0         \n",
            "_________________________________________________________________\n",
            "conv1d (Conv1D)              (None, 12, 64)            32064     \n",
            "_________________________________________________________________\n",
            "max_pooling1d (MaxPooling1D) (None, 3, 64)             0         \n",
            "_________________________________________________________________\n",
            "lstm (LSTM)                  (None, 64)                33024     \n",
            "_________________________________________________________________\n",
            "dense (Dense)                (None, 1)                 65        \n",
            "=================================================================\n",
            "Total params: 13,941,753\n",
            "Trainable params: 65,153\n",
            "Non-trainable params: 13,876,600\n",
            "_________________________________________________________________\n",
            "Epoch 1/50\n",
            "4500/4500 - 26s - loss: 0.5673 - accuracy: 0.6991 - val_loss: 0.5238 - val_accuracy: 0.7364\n",
            "Epoch 2/50\n",
            "4500/4500 - 17s - loss: 0.5278 - accuracy: 0.7312 - val_loss: 0.5072 - val_accuracy: 0.7479\n",
            "Epoch 3/50\n",
            "4500/4500 - 17s - loss: 0.5121 - accuracy: 0.7433 - val_loss: 0.5047 - val_accuracy: 0.7491\n",
            "Epoch 4/50\n",
            "4500/4500 - 17s - loss: 0.5004 - accuracy: 0.7506 - val_loss: 0.5002 - val_accuracy: 0.7535\n",
            "Epoch 5/50\n",
            "4500/4500 - 17s - loss: 0.4919 - accuracy: 0.7569 - val_loss: 0.4963 - val_accuracy: 0.7549\n",
            "Epoch 6/50\n",
            "4500/4500 - 17s - loss: 0.4838 - accuracy: 0.7621 - val_loss: 0.4979 - val_accuracy: 0.7551\n",
            "Epoch 7/50\n",
            "4500/4500 - 17s - loss: 0.4801 - accuracy: 0.7636 - val_loss: 0.5004 - val_accuracy: 0.7492\n",
            "Epoch 8/50\n",
            "4500/4500 - 17s - loss: 0.4747 - accuracy: 0.7673 - val_loss: 0.4984 - val_accuracy: 0.7576\n",
            "Epoch 9/50\n",
            "4500/4500 - 17s - loss: 0.4703 - accuracy: 0.7700 - val_loss: 0.4969 - val_accuracy: 0.7589\n",
            "Epoch 10/50\n",
            "4500/4500 - 18s - loss: 0.4664 - accuracy: 0.7724 - val_loss: 0.4969 - val_accuracy: 0.7553\n",
            "Epoch 11/50\n",
            "4500/4500 - 17s - loss: 0.4622 - accuracy: 0.7762 - val_loss: 0.5054 - val_accuracy: 0.7506\n",
            "Epoch 12/50\n",
            "4500/4500 - 17s - loss: 0.4596 - accuracy: 0.7772 - val_loss: 0.4994 - val_accuracy: 0.7534\n",
            "Epoch 13/50\n",
            "4500/4500 - 17s - loss: 0.4561 - accuracy: 0.7795 - val_loss: 0.5026 - val_accuracy: 0.7523\n",
            "Epoch 14/50\n",
            "4500/4500 - 18s - loss: 0.4540 - accuracy: 0.7802 - val_loss: 0.5047 - val_accuracy: 0.7565\n",
            "Epoch 15/50\n",
            "4500/4500 - 17s - loss: 0.4524 - accuracy: 0.7807 - val_loss: 0.4985 - val_accuracy: 0.7526\n",
            "Epoch 16/50\n",
            "4500/4500 - 17s - loss: 0.4504 - accuracy: 0.7828 - val_loss: 0.5029 - val_accuracy: 0.7524\n",
            "Epoch 17/50\n",
            "4500/4500 - 17s - loss: 0.4499 - accuracy: 0.7823 - val_loss: 0.5059 - val_accuracy: 0.7508\n",
            "Epoch 18/50\n",
            "4500/4500 - 17s - loss: 0.4473 - accuracy: 0.7859 - val_loss: 0.5071 - val_accuracy: 0.7501\n",
            "Epoch 19/50\n",
            "4500/4500 - 17s - loss: 0.4448 - accuracy: 0.7859 - val_loss: 0.5070 - val_accuracy: 0.7498\n",
            "Epoch 20/50\n",
            "4500/4500 - 17s - loss: 0.4440 - accuracy: 0.7856 - val_loss: 0.5058 - val_accuracy: 0.7487\n",
            "Epoch 21/50\n",
            "4500/4500 - 17s - loss: 0.4437 - accuracy: 0.7860 - val_loss: 0.5076 - val_accuracy: 0.7485\n",
            "Epoch 22/50\n",
            "4500/4500 - 17s - loss: 0.4419 - accuracy: 0.7877 - val_loss: 0.5117 - val_accuracy: 0.7528\n",
            "Epoch 23/50\n",
            "4500/4500 - 17s - loss: 0.4400 - accuracy: 0.7878 - val_loss: 0.5141 - val_accuracy: 0.7494\n",
            "Epoch 24/50\n",
            "4500/4500 - 18s - loss: 0.4392 - accuracy: 0.7892 - val_loss: 0.5087 - val_accuracy: 0.7518\n",
            "Epoch 25/50\n",
            "4500/4500 - 17s - loss: 0.4384 - accuracy: 0.7901 - val_loss: 0.5153 - val_accuracy: 0.7483\n",
            "Epoch 26/50\n",
            "4500/4500 - 17s - loss: 0.4385 - accuracy: 0.7896 - val_loss: 0.5155 - val_accuracy: 0.7508\n",
            "Epoch 27/50\n",
            "4500/4500 - 17s - loss: 0.4379 - accuracy: 0.7893 - val_loss: 0.5171 - val_accuracy: 0.7474\n",
            "Epoch 28/50\n",
            "4500/4500 - 18s - loss: 0.4370 - accuracy: 0.7915 - val_loss: 0.5115 - val_accuracy: 0.7499\n",
            "Epoch 29/50\n",
            "4500/4500 - 17s - loss: 0.4358 - accuracy: 0.7908 - val_loss: 0.5133 - val_accuracy: 0.7474\n",
            "Epoch 30/50\n",
            "4500/4500 - 17s - loss: 0.4353 - accuracy: 0.7913 - val_loss: 0.5162 - val_accuracy: 0.7476\n",
            "Epoch 31/50\n",
            "4500/4500 - 18s - loss: 0.4361 - accuracy: 0.7920 - val_loss: 0.5157 - val_accuracy: 0.7526\n",
            "Epoch 32/50\n",
            "4500/4500 - 17s - loss: 0.4351 - accuracy: 0.7919 - val_loss: 0.5149 - val_accuracy: 0.7477\n",
            "Epoch 33/50\n",
            "4500/4500 - 17s - loss: 0.4342 - accuracy: 0.7934 - val_loss: 0.5156 - val_accuracy: 0.7496\n",
            "Epoch 34/50\n",
            "4500/4500 - 17s - loss: 0.4333 - accuracy: 0.7936 - val_loss: 0.5160 - val_accuracy: 0.7492\n",
            "Epoch 35/50\n",
            "4500/4500 - 17s - loss: 0.4327 - accuracy: 0.7936 - val_loss: 0.5118 - val_accuracy: 0.7493\n",
            "Epoch 36/50\n",
            "4500/4500 - 17s - loss: 0.4322 - accuracy: 0.7925 - val_loss: 0.5157 - val_accuracy: 0.7526\n",
            "Epoch 37/50\n",
            "4500/4500 - 17s - loss: 0.4310 - accuracy: 0.7949 - val_loss: 0.5135 - val_accuracy: 0.7491\n",
            "Epoch 38/50\n",
            "4500/4500 - 17s - loss: 0.4315 - accuracy: 0.7935 - val_loss: 0.5140 - val_accuracy: 0.7510\n",
            "Epoch 39/50\n",
            "4500/4500 - 17s - loss: 0.4311 - accuracy: 0.7944 - val_loss: 0.5191 - val_accuracy: 0.7464\n",
            "Epoch 40/50\n",
            "4500/4500 - 17s - loss: 0.4309 - accuracy: 0.7947 - val_loss: 0.5126 - val_accuracy: 0.7506\n",
            "Epoch 41/50\n",
            "4500/4500 - 17s - loss: 0.4302 - accuracy: 0.7942 - val_loss: 0.5141 - val_accuracy: 0.7479\n",
            "Epoch 42/50\n",
            "4500/4500 - 17s - loss: 0.4294 - accuracy: 0.7952 - val_loss: 0.5136 - val_accuracy: 0.7494\n",
            "Epoch 43/50\n",
            "4500/4500 - 17s - loss: 0.4307 - accuracy: 0.7945 - val_loss: 0.5075 - val_accuracy: 0.7493\n",
            "Epoch 44/50\n",
            "4500/4500 - 17s - loss: 0.4300 - accuracy: 0.7943 - val_loss: 0.5149 - val_accuracy: 0.7509\n",
            "Epoch 45/50\n",
            "4500/4500 - 17s - loss: 0.4289 - accuracy: 0.7952 - val_loss: 0.5136 - val_accuracy: 0.7525\n",
            "Epoch 46/50\n",
            "4500/4500 - 18s - loss: 0.4294 - accuracy: 0.7963 - val_loss: 0.5132 - val_accuracy: 0.7516\n",
            "Epoch 47/50\n",
            "4500/4500 - 17s - loss: 0.4277 - accuracy: 0.7958 - val_loss: 0.5141 - val_accuracy: 0.7524\n",
            "Epoch 48/50\n",
            "4500/4500 - 17s - loss: 0.4286 - accuracy: 0.7943 - val_loss: 0.5113 - val_accuracy: 0.7517\n",
            "Epoch 49/50\n",
            "4500/4500 - 18s - loss: 0.4288 - accuracy: 0.7958 - val_loss: 0.5150 - val_accuracy: 0.7501\n",
            "Epoch 50/50\n",
            "4500/4500 - 17s - loss: 0.4296 - accuracy: 0.7952 - val_loss: 0.5123 - val_accuracy: 0.7521\n",
            "Training Complete\n"
          ],
          "name": "stdout"
        }
      ]
    },
    {
      "cell_type": "code",
      "metadata": {
        "id": "qxju4ItJKO8F",
        "colab": {
          "base_uri": "https://localhost:8080/",
          "height": 610
        },
        "outputId": "80efb7ef-54b9-4a30-fc30-7bafb18b6169"
      },
      "source": [
        "import matplotlib.image  as mpimg\n",
        "import matplotlib.pyplot as plt\n",
        "\n",
        "#-----------------------------------------------------------\n",
        "# Retrieve a list of list results on training and test data\n",
        "# sets for each training epoch\n",
        "#-----------------------------------------------------------\n",
        "acc=history.history['accuracy']\n",
        "val_acc=history.history['val_accuracy']\n",
        "loss=history.history['loss']\n",
        "val_loss=history.history['val_loss']\n",
        "\n",
        "epochs=range(len(acc)) # Get number of epochs\n",
        "\n",
        "#------------------------------------------------\n",
        "# Plot training and validation accuracy per epoch\n",
        "#------------------------------------------------\n",
        "plt.plot(epochs, acc, 'r')\n",
        "plt.plot(epochs, val_acc, 'b')\n",
        "plt.title('Training and validation accuracy')\n",
        "plt.xlabel(\"Epochs\")\n",
        "plt.ylabel(\"Accuracy\")\n",
        "plt.legend([\"Accuracy\", \"Validation Accuracy\"])\n",
        "\n",
        "plt.figure()\n",
        "\n",
        "#------------------------------------------------\n",
        "# Plot training and validation loss per epoch\n",
        "#------------------------------------------------\n",
        "plt.plot(epochs, loss, 'r')\n",
        "plt.plot(epochs, val_loss, 'b')\n",
        "plt.title('Training and validation loss')\n",
        "plt.xlabel(\"Epochs\")\n",
        "plt.ylabel(\"Loss\")\n",
        "plt.legend([\"Loss\", \"Validation Loss\"])\n",
        "\n",
        "plt.figure()\n",
        "\n",
        "\n",
        "# Expected Output\n",
        "# A chart where the validation loss does not increase sharply!"
      ],
      "execution_count": 10,
      "outputs": [
        {
          "output_type": "execute_result",
          "data": {
            "text/plain": [
              "<Figure size 432x288 with 0 Axes>"
            ]
          },
          "metadata": {
            "tags": []
          },
          "execution_count": 10
        },
        {
          "output_type": "display_data",
          "data": {
            "image/png": "[encoded data removed]",
            "text/plain": [
              "<Figure size 432x288 with 1 Axes>"
            ]
          },
          "metadata": {
            "tags": [],
            "needs_background": "light"
          }
        },
        {
          "output_type": "display_data",
          "data": {
            "image/png": "[encoded data removed]",
            "text/plain": [
              "<Figure size 432x288 with 1 Axes>"
            ]
          },
          "metadata": {
            "tags": [],
            "needs_background": "light"
          }
        },
        {
          "output_type": "display_data",
          "data": {
            "text/plain": [
              "<Figure size 432x288 with 0 Axes>"
            ]
          },
          "metadata": {
            "tags": []
          }
        }
      ]
    }
  ]
}